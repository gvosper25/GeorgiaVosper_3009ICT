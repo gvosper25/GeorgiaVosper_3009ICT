{
  "nbformat": 4,
  "nbformat_minor": 0,
  "metadata": {
    "colab": {
      "provenance": [],
      "authorship_tag": "ABX9TyNqhsqziaGbtzvF6MDM0ch0",
      "include_colab_link": true
    },
    "kernelspec": {
      "name": "python3",
      "display_name": "Python 3"
    },
    "language_info": {
      "name": "python"
    }
  },
  "cells": [
    {
      "cell_type": "markdown",
      "metadata": {
        "id": "view-in-github",
        "colab_type": "text"
      },
      "source": [
        "<a href=\"https://colab.research.google.com/github/gvosper25/GeorgiaVosper_3009ICT/blob/main/GeorgiaVosper_3009ICT.ipynb\" target=\"_parent\"><img src=\"https://colab.research.google.com/assets/colab-badge.svg\" alt=\"Open In Colab\"/></a>"
      ]
    },
    {
      "cell_type": "markdown",
      "source": [
        "# Data Processing and Visualization\n",
        "-----\n",
        "**Assignment Topic: Data Analysis on Car Advertisements**\n",
        "\n",
        "\n",
        "Student Name: Georgia Vosper\n",
        "\n",
        "SNumber: S5223182"
      ],
      "metadata": {
        "id": "2gtq5SRYdG45"
      }
    },
    {
      "cell_type": "markdown",
      "source": [
        "# Data Import"
      ],
      "metadata": {
        "id": "d_ZGLpVjdQwE"
      }
    },
    {
      "cell_type": "code",
      "source": [
        "import pandas as pd\n",
        "from sklearn.preprocessing import MinMaxScaler\n",
        "import sqlite3\n",
        "import seaborn as sns\n",
        "from google.colab import drive\n",
        "drive.mount ('/content/drive')"
      ],
      "metadata": {
        "colab": {
          "base_uri": "https://localhost:8080/"
        },
        "id": "oPA_dfHYeRFw",
        "outputId": "e45619af-7c6e-4b1e-874a-a13ed38e890d"
      },
      "execution_count": 5,
      "outputs": [
        {
          "output_type": "stream",
          "name": "stdout",
          "text": [
            "Mounted at /content/drive\n"
          ]
        }
      ]
    },
    {
      "cell_type": "code",
      "source": [
        "car_data = pd.read_csv ('/content/drive/MyDrive/3009ICT-Assignment/car_dataset.csv')\n",
        "sellers_data = pd.read_csv ('/content/drive/MyDrive/3009ICT-Assignment/seller_dataset.csv')"
      ],
      "metadata": {
        "id": "rNdjvEKbezTe"
      },
      "execution_count": 6,
      "outputs": []
    },
    {
      "cell_type": "markdown",
      "source": [
        "# Data Formatting"
      ],
      "metadata": {
        "id": "c60EduiZfsr4"
      }
    },
    {
      "cell_type": "markdown",
      "source": [
        "## a. Numerical Conversion"
      ],
      "metadata": {
        "id": "25lK5m0Ff9Vf"
      }
    },
    {
      "cell_type": "code",
      "source": [],
      "metadata": {
        "id": "wzYLDn0LgEoa"
      },
      "execution_count": null,
      "outputs": []
    }
  ]
}